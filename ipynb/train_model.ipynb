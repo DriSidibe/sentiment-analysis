{
 "cells": [
  {
   "cell_type": "markdown",
   "metadata": {},
   "source": [
    "# Train the Sentiment Analysis Model"
   ]
  },
  {
   "cell_type": "code",
   "execution_count": 15,
   "metadata": {},
   "outputs": [],
   "source": [
    "import os as os\n",
    "import os.path\n",
    "\n",
    "from keras.preprocessing.sequence import pad_sequences\n",
    "#from keras.preprocessing.text import Tokenizer\n",
    "from tensorflow.keras.preprocessing.text import Tokenizer\n",
    "\n",
    "from keras.models import Sequential, load_model\n",
    "from keras.layers import Embedding, LSTM, Dense, Dropout\n",
    "from keras.callbacks import History\n",
    "from keras.utils import normalize\n",
    "\n",
    "import numpy as np\n",
    "import pickle\n",
    "import matplotlib.pyplot as plt\n",
    "\n",
    "from sklearn.model_selection import train_test_split\n",
    "\n",
    "import re as re\n",
    "from random import randint\n",
    "from gensim.models import KeyedVectors"
   ]
  },
  {
   "cell_type": "code",
   "execution_count": 16,
   "metadata": {},
   "outputs": [],
   "source": [
    "import os as os\n",
    "import os.path\n",
    "\n",
    "from keras.preprocessing.sequence import pad_sequences\n",
    "#from keras.preprocessing.text import Tokenizer\n",
    "from tensorflow.keras.preprocessing.text import Tokenizer\n",
    "\n",
    "from keras.models import Sequential, load_model\n",
    "from keras.layers import Embedding, LSTM, Dense, Dropout\n",
    "from keras.callbacks import History\n",
    "from keras.utils import normalize\n",
    "\n",
    "import numpy as np\n",
    "import pickle\n",
    "import matplotlib.pyplot as plt\n",
    "\n",
    "from sklearn.model_selection import train_test_split\n",
    "\n",
    "import re as re\n",
    "from random import randint\n",
    "from gensim.models import KeyedVectors"
   ]
  },
  {
   "cell_type": "code",
   "execution_count": 46,
   "metadata": {},
   "outputs": [
    {
     "name": "stdout",
     "output_type": "stream",
     "text": [
      "LANG: en\n",
      "EMBEDDING_FILE: /home/drissa/.ipublia/data/facebookresearch/wiki.en.vec\n",
      "MODEL_FILE: /home/drissa/.ipublia/data/sentiment-analysis/model_en_1.0.1.h5\n",
      "CONFIG {'dataset': 'aclImdb', 'dataset_dir': '/home/drissa/.ipublia/data/aclImdb', 'max-number-pos': 25000, 'max-number-neg': 25000, 'test-size': 0.5, 'version': '1.0.1'}\n"
     ]
    }
   ],
   "source": [
    "HOME_DIR = os.path.expanduser('~')\n",
    "DATA_DIR = os.path.join(HOME_DIR, '.ipublia', 'data')\n",
    "TRAIN_AND_TEST_DATA_DIR = os.path.join(HOME_DIR, '.ipublia', 'data', 'train_test_dir')\n",
    "\n",
    "SETTINGS = {\n",
    "    'en': {\n",
    "        'dataset': 'aclImdb',\n",
    "        'dataset_dir': os.path.join(DATA_DIR, 'aclImdb'),\n",
    "        'max-number-pos': 25000,\n",
    "        'max-number-neg': 25000,\n",
    "        'test-size': 0.5,\n",
    "        'version': '1.0.1'\n",
    "    },\n",
    "    'de': {\n",
    "        'dataset': 'filmstarts',\n",
    "        'dataset_dir': os.path.join(DATA_DIR, 'filmstarts'),\n",
    "        'max-number-pos': 25000,\n",
    "        'max-number-neg': 15500,\n",
    "        'test-size': 0.33,\n",
    "        'version': '1.0.1'\n",
    "    },\n",
    "    'fr': {\n",
    "        'dataset': 'allocine',\n",
    "        'dataset_dir': os.path.join(DATA_DIR, 'allocine'),\n",
    "        'max-number-pos': 25000,\n",
    "        'max-number-neg': 25000,\n",
    "        'test-size': 0.5,\n",
    "        'version': '1.0.1'\n",
    "    },\n",
    "    'it': {\n",
    "        'dataset': 'mymovies',\n",
    "        'dataset_dir': os.path.join(DATA_DIR, 'mymovies'),\n",
    "        'max-number-pos': 25000,\n",
    "        'max-number-neg': 25000,\n",
    "        'test-size': 0.5,\n",
    "        'version': '1.0.1'\n",
    "    }\n",
    "}\n",
    "\n",
    "LANG = 'en'\n",
    "CONFIG = SETTINGS[LANG]\n",
    "\n",
    "DATASET = CONFIG['dataset']\n",
    "DATASET_DIR = CONFIG['dataset_dir']\n",
    "MAX_NUMBER_POS = CONFIG['max-number-pos']\n",
    "MAX_NUMBER_NEG = CONFIG['max-number-neg']\n",
    "TEST_SIZE = CONFIG['test-size']\n",
    "MODEL_NAME = 'sentiment-analysis'\n",
    "MODEL_VERSION = CONFIG['version']\n",
    "\n",
    "MODEL_FILE = os.path.join(DATA_DIR, MODEL_NAME, 'model_' + LANG + '_' + MODEL_VERSION + '.h5')\n",
    "TOKENIZER_FILE = os.path.join(DATA_DIR, MODEL_NAME, 'tokenizer_' + LANG + '_' + MODEL_VERSION + '.pickle')\n",
    "HISTORY_FILE = os.path.join(DATA_DIR, MODEL_NAME, 'history_' + LANG + '_' + MODEL_VERSION + '.pickle')\n",
    "EMBEDDING_FILE = os.path.join(DATA_DIR, 'facebookresearch', 'wiki.' + LANG + '.vec')\n",
    "\n",
    "MAX_WORDS = None\n",
    "MIN_TEXT_LENGTH = 3\n",
    "MAX_TEXT_LENGTH = 400\n",
    "\n",
    "print('LANG: {}'.format(LANG))\n",
    "print('EMBEDDING_FILE: {}\\nMODEL_FILE: {}'.format(EMBEDDING_FILE, MODEL_FILE))\n",
    "print('CONFIG', CONFIG)"
   ]
  },
  {
   "cell_type": "code",
   "execution_count": 18,
   "metadata": {},
   "outputs": [],
   "source": [
    "\"\"\"def load_word_embedding(file, max_words=None):    \n",
    "    embedding_index = {}\n",
    "    model = KeyedVectors.load_word2vec_format(file, limit=max_words)\n",
    "    \n",
    "    for word in model.vocab:\n",
    "        embedding_index[word] = model[word]\n",
    "        \n",
    "    embedding_dimension = 300 #len(next (iter (embedding_index.values())))\n",
    "    return (embedding_index, embedding_dimension)\n",
    "\"\"\"\n",
    "def load_word_embedding(file, max_words=None):    \n",
    "    embedding_index = {}\n",
    "    model = KeyedVectors.load_word2vec_format(file, limit=max_words, binary=False)\n",
    "\n",
    "    for word in model.key_to_index:\n",
    "        embedding_index[word] = model[word]\n",
    "\n",
    "    embedding_dimension = model.vector_size\n",
    "    return (embedding_index, embedding_dimension)"
   ]
  },
  {
   "cell_type": "code",
   "execution_count": 19,
   "metadata": {},
   "outputs": [],
   "source": [
    "def clean_text(text):\n",
    "    text = text.lower()\n",
    "    text = re.sub('<br />', '', text)\n",
    "    text = re.sub('(\\n|\\r|\\t)+', ' ', text)\n",
    "    text = re.sub('ß', 'ss', text)\n",
    "    text = re.sub('’', \"'\", text)\n",
    "    text = re.sub('[^a-zA-Z0-9.!?,;:\\-\\' äàâæçéèêîïíìöôóòœüûüúùÿ]+', '', text)\n",
    "    text = re.sub(' +', ' ', text)\n",
    "    return text"
   ]
  },
  {
   "cell_type": "code",
   "execution_count": 20,
   "metadata": {},
   "outputs": [],
   "source": [
    "def load_data(dataset_path,\n",
    "              max_number_pos=100,\n",
    "              max_number_neg=100,\n",
    "              min_words=None,\n",
    "              max_words=None,\n",
    "              clean=False,\n",
    "              shuffle=False):\n",
    "    \n",
    "    def load(path, y_val, max_number):\n",
    "        \n",
    "        x = np.array([])\n",
    "        y = np.array([])\n",
    "        \n",
    "        files = [str(os.path.join(path, f)) for f in os.listdir(path) if os.path.isfile(os.path.join(path, f))]\n",
    "        loaded_count = 0\n",
    "        \n",
    "        for file in files:\n",
    "            \n",
    "            if loaded_count == max_number:\n",
    "                break\n",
    "                \n",
    "            with open(file, 'r', encoding='utf-8') as f:\n",
    "                text = f.readline()\n",
    "                if clean:\n",
    "                    text = clean_text(text)\n",
    "                \n",
    "                splitted = text.split(' ')\n",
    "                if min_words and len(splitted) < min_words:\n",
    "                    continue\n",
    "\n",
    "                if max_words:\n",
    "                    text = ' '.join(splitted[:max_words])\n",
    "\n",
    "                x = np.append(x, text)\n",
    "                y = np.append(y, y_val)\n",
    "                loaded_count += 1 \n",
    "                \n",
    "            if loaded_count % 1000 == 0:\n",
    "                print('  {} items loaded...'.format(loaded_count))\n",
    "        \n",
    "        return (x, y)\n",
    "\n",
    "    print('Loading data from {}'.format(dataset_path))\n",
    "    x = np.array([])\n",
    "    y = np.array([])\n",
    "    \n",
    "    if DATASET == 'aclImdb':\n",
    "        print('Using train/test source data structure.')\n",
    "        print('Loading {} pos items...'.format(max_number_pos))\n",
    "        x_pos, y_pos = load(os.path.join(dataset_path, 'train', 'pos'), 1, max_number_pos)\n",
    "        x = np.append(x, x_pos)\n",
    "        y = np.append(y, y_pos)\n",
    "        \n",
    "        x_pos, y_pos = load(os.path.join(dataset_path, 'test', 'pos'), 1, max_number_pos - len(x_pos))\n",
    "        x = np.append(x, x_pos)\n",
    "        y = np.append(y, y_pos)\n",
    "        \n",
    "        print('Loading {} neg items...'.format(max_number_neg))\n",
    "        x_neg, y_neg = load(os.path.join(dataset_path, 'train', 'neg'), 0, max_number_neg)\n",
    "        x = np.append(x, x_neg)\n",
    "        y = np.append(y, y_neg)\n",
    "        \n",
    "        x_neg, y_neg = load(os.path.join(dataset_path, 'test', 'neg'), 0, max_number_neg - len(x_neg))\n",
    "        x = np.append(x, x_neg)\n",
    "        y = np.append(y, y_neg)\n",
    "        \n",
    "    else:\n",
    "        print('Using pos/neg source data structure.')\n",
    "        print('Loading {} pos items...'.format(max_number_pos))\n",
    "        x_pos, y_pos = load(os.path.join(dataset_path, 'pos'), 1, max_number_pos)\n",
    "        x = np.append(x, x_pos)\n",
    "        y = np.append(y, y_pos)\n",
    "\n",
    "        print('Loading {} neg items...'.format(max_number_neg))\n",
    "        x_neg, y_neg = load(os.path.join(dataset_path, 'neg'), 0, max_number_neg)\n",
    "        x = np.append(x, x_neg)\n",
    "        y = np.append(y, y_neg)\n",
    "    \n",
    "    print('Loaded {} items.'.format(len(x)))\n",
    "    \n",
    "    if shuffle:\n",
    "        print('Shuffling items...')\n",
    "        p = np.random.permutation(len(x))\n",
    "        x = x[p]\n",
    "        y = y[p]\n",
    "        \n",
    "    return (x, y)"
   ]
  },
  {
   "cell_type": "markdown",
   "metadata": {},
   "source": [
    "## Load and Preprocess the Training and Test Data"
   ]
  },
  {
   "cell_type": "code",
   "execution_count": 21,
   "metadata": {},
   "outputs": [
    {
     "name": "stdout",
     "output_type": "stream",
     "text": [
      "Loading data from /home/drissa/.ipublia/data/aclImdb\n",
      "Using train/test source data structure.\n",
      "Loading 25000 pos items...\n",
      "  1000 items loaded...\n",
      "  2000 items loaded...\n",
      "  3000 items loaded...\n",
      "  4000 items loaded...\n",
      "  5000 items loaded...\n",
      "  6000 items loaded...\n",
      "  7000 items loaded...\n",
      "  8000 items loaded...\n",
      "  9000 items loaded...\n",
      "  10000 items loaded...\n",
      "  11000 items loaded...\n",
      "  12000 items loaded...\n",
      "  1000 items loaded...\n",
      "  2000 items loaded...\n",
      "  3000 items loaded...\n",
      "  4000 items loaded...\n",
      "  5000 items loaded...\n",
      "  6000 items loaded...\n",
      "  7000 items loaded...\n",
      "  8000 items loaded...\n",
      "  9000 items loaded...\n",
      "  10000 items loaded...\n",
      "  11000 items loaded...\n",
      "  12000 items loaded...\n",
      "Loading 25000 neg items...\n",
      "  1000 items loaded...\n",
      "  2000 items loaded...\n",
      "  3000 items loaded...\n",
      "  4000 items loaded...\n",
      "  5000 items loaded...\n",
      "  6000 items loaded...\n",
      "  7000 items loaded...\n",
      "  8000 items loaded...\n",
      "  9000 items loaded...\n",
      "  10000 items loaded...\n",
      "  11000 items loaded...\n",
      "  12000 items loaded...\n",
      "  1000 items loaded...\n",
      "  2000 items loaded...\n",
      "  3000 items loaded...\n",
      "  4000 items loaded...\n",
      "  5000 items loaded...\n",
      "  6000 items loaded...\n",
      "  7000 items loaded...\n",
      "  8000 items loaded...\n",
      "  9000 items loaded...\n",
      "  10000 items loaded...\n",
      "  11000 items loaded...\n",
      "  12000 items loaded...\n",
      "Loaded 50000 items.\n",
      "Shuffling items...\n",
      "Loaded 50000 items.\n"
     ]
    }
   ],
   "source": [
    "(x, y) = load_data(DATASET_DIR,\n",
    "                   max_number_pos=MAX_NUMBER_POS,\n",
    "                   max_number_neg=MAX_NUMBER_NEG,\n",
    "                   min_words=MIN_TEXT_LENGTH,\n",
    "                   max_words=MAX_TEXT_LENGTH,\n",
    "                   clean=True,\n",
    "                   shuffle=True)\n",
    "\n",
    "print('Loaded {} items.'.format(len(x)))"
   ]
  },
  {
   "cell_type": "code",
   "execution_count": 22,
   "metadata": {},
   "outputs": [
    {
     "name": "stdout",
     "output_type": "stream",
     "text": [
      "Splitting into train and test sets ...\n",
      "Shape x_train: (25000,), y_train: (25000,)\n",
      "      x_test: (25000,), y_test: (25000,)\n",
      "Creating tokenizer ...\n",
      "    Found 91268 unique tokens.\n",
      "Vectorizing sequence data ...\n",
      "Padding sequence data ...\n",
      "Normalizing sequence data ...\n",
      "Done.\n"
     ]
    }
   ],
   "source": [
    "print('Splitting into train and test sets ...')\n",
    "x_train, x_test, y_train, y_test = train_test_split(x, y, test_size=TEST_SIZE, random_state=0)\n",
    "\n",
    "del x\n",
    "del y\n",
    "\n",
    "print('Shape x_train: {}, y_train: {}'.format(x_train.shape, y_train.shape))\n",
    "print('      x_test: {}, y_test: {}'.format(x_test.shape, y_test.shape))\n",
    "\n",
    "print('Creating tokenizer ...')\n",
    "tokenizer = Tokenizer(num_words=MAX_WORDS)\n",
    "tokenizer.fit_on_texts(x_train)\n",
    "\n",
    "word_index = tokenizer.word_index\n",
    "print('    Found {} unique tokens.'.format(len(word_index)))\n",
    "\n",
    "print('Vectorizing sequence data ...')\n",
    "x_train = tokenizer.texts_to_sequences(x_train)\n",
    "x_test = tokenizer.texts_to_sequences(x_test)\n",
    "\n",
    "print('Padding sequence data ...')\n",
    "x_train = pad_sequences(x_train, maxlen=MAX_TEXT_LENGTH)\n",
    "x_test = pad_sequences(x_test, maxlen=MAX_TEXT_LENGTH)\n",
    "\n",
    "print('Normalizing sequence data ...')\n",
    "#x_train = normalize(x_train.astype(np.float32))\n",
    "#x_test = normalize(x_test.astype(np.float32))\n",
    "x_train = x_train.astype(np.float64)\n",
    "x_test = x_test.astype(np.float64)\n",
    "# print(x_train[0:1][0:10])\n",
    "\n",
    "print('Done.')"
   ]
  },
  {
   "cell_type": "code",
   "execution_count": 23,
   "metadata": {},
   "outputs": [
    {
     "name": "stdout",
     "output_type": "stream",
     "text": [
      "[1.030e+02 5.500e+01 1.252e+03 1.380e+02 1.400e+01 1.317e+03 9.809e+03\n",
      " 1.220e+02 1.000e+00 1.079e+03] \n",
      "rating: 1.0   index: 245 \n",
      "\n",
      "[  21.   59.  280.  303.    9.    7. 2157. 3569.  547. 2517.] \n",
      "rating: 0.0   index: 9161 \n",
      "\n",
      "[  1. 976. 592.  39.   1. 149.   3.   1. 228. 117.] \n",
      "rating: 1.0   index: 15541 \n",
      "\n",
      "[6.2281e+04 1.4000e+01 6.8000e+01 3.8000e+01 1.4000e+01 3.2000e+01\n",
      " 6.5000e+02 8.8000e+01 2.0000e+00 2.3594e+04] \n",
      "rating: 1.0   index: 7280 \n",
      "\n",
      "[1.1400e+02 3.0000e+00 1.0000e+00 4.5800e+02 1.0931e+04 2.0000e+00\n",
      " 7.0000e+01 3.1670e+03 8.2300e+02 5.2000e+01] \n",
      "rating: 0.0   index: 16295 \n",
      "\n"
     ]
    }
   ],
   "source": [
    "# Test\n",
    "for i in range(0, 5):\n",
    "    j = np.random.randint(0, len(x_train))\n",
    "    print(x_train[j][-10:], '\\nrating:', y_train[j], '  index:', j, '\\n')"
   ]
  },
  {
   "cell_type": "markdown",
   "metadata": {},
   "source": [
    "## Load the Word Embeddings"
   ]
  },
  {
   "cell_type": "code",
   "execution_count": 24,
   "metadata": {
    "scrolled": false
   },
   "outputs": [],
   "source": [
    "(embedding_index, embedding_dimension) = load_word_embedding(EMBEDDING_FILE, MAX_WORDS)"
   ]
  },
  {
   "cell_type": "code",
   "execution_count": 25,
   "metadata": {},
   "outputs": [
    {
     "name": "stdout",
     "output_type": "stream",
     "text": [
      "Length of embedding_matrix: 91269, matches with embedding: 58089, ratio: 0.6365\n"
     ]
    }
   ],
   "source": [
    "embedding_matrix = np.zeros((len(tokenizer.word_index) + 1, embedding_dimension))\n",
    "matches = 0\n",
    "for word, i in tokenizer.word_index.items():\n",
    "    embedding_vector = embedding_index.get(word)\n",
    "    if embedding_vector is not None:\n",
    "        matches += 1\n",
    "        # words not found in embedding index will be all-zeros.\n",
    "        embedding_matrix[i] = embedding_vector\n",
    "        \n",
    "print('Length of embedding_matrix: {}, matches with embedding: {}, ratio: {:.4f}'.format(\n",
    "    len(embedding_matrix), matches, matches / len(embedding_matrix)))"
   ]
  },
  {
   "cell_type": "markdown",
   "metadata": {},
   "source": [
    "## Define the Model"
   ]
  },
  {
   "cell_type": "code",
   "execution_count": 26,
   "metadata": {},
   "outputs": [
    {
     "name": "stderr",
     "output_type": "stream",
     "text": [
      "/home/drissa/Documents/Projects/sentiment-analysis/.env/lib/python3.11/site-packages/keras/src/layers/core/embedding.py:90: UserWarning: Argument `input_length` is deprecated. Just remove it.\n",
      "  warnings.warn(\n",
      "2025-05-13 10:18:43.549580: E external/local_xla/xla/stream_executor/cuda/cuda_platform.cc:51] failed call to cuInit: INTERNAL: CUDA error: Failed call to cuInit: UNKNOWN ERROR (303)\n",
      "2025-05-13 10:18:43.593793: W external/local_xla/xla/tsl/framework/cpu_allocator_impl.cc:83] Allocation of 109522800 exceeds 10% of free system memory.\n",
      "2025-05-13 10:18:43.652473: W external/local_xla/xla/tsl/framework/cpu_allocator_impl.cc:83] Allocation of 109522800 exceeds 10% of free system memory.\n",
      "2025-05-13 10:18:43.678859: W external/local_xla/xla/tsl/framework/cpu_allocator_impl.cc:83] Allocation of 109522800 exceeds 10% of free system memory.\n",
      "2025-05-13 10:18:44.089315: W external/local_xla/xla/tsl/framework/cpu_allocator_impl.cc:83] Allocation of 109522800 exceeds 10% of free system memory.\n"
     ]
    },
    {
     "data": {
      "text/html": [
       "<pre style=\"white-space:pre;overflow-x:auto;line-height:normal;font-family:Menlo,'DejaVu Sans Mono',consolas,'Courier New',monospace\"><span style=\"font-weight: bold\">Model: \"sequential\"</span>\n",
       "</pre>\n"
      ],
      "text/plain": [
       "\u001b[1mModel: \"sequential\"\u001b[0m\n"
      ]
     },
     "metadata": {},
     "output_type": "display_data"
    },
    {
     "data": {
      "text/html": [
       "<pre style=\"white-space:pre;overflow-x:auto;line-height:normal;font-family:Menlo,'DejaVu Sans Mono',consolas,'Courier New',monospace\">┏━━━━━━━━━━━━━━━━━━━━━━━━━━━━━━━━━┳━━━━━━━━━━━━━━━━━━━━━━━━┳━━━━━━━━━━━━━━━┓\n",
       "┃<span style=\"font-weight: bold\"> Layer (type)                    </span>┃<span style=\"font-weight: bold\"> Output Shape           </span>┃<span style=\"font-weight: bold\">       Param # </span>┃\n",
       "┡━━━━━━━━━━━━━━━━━━━━━━━━━━━━━━━━━╇━━━━━━━━━━━━━━━━━━━━━━━━╇━━━━━━━━━━━━━━━┩\n",
       "│ embedding (<span style=\"color: #0087ff; text-decoration-color: #0087ff\">Embedding</span>)           │ ?                      │    <span style=\"color: #00af00; text-decoration-color: #00af00\">27,380,700</span> │\n",
       "├─────────────────────────────────┼────────────────────────┼───────────────┤\n",
       "│ lstm (<span style=\"color: #0087ff; text-decoration-color: #0087ff\">LSTM</span>)                     │ ?                      │   <span style=\"color: #00af00; text-decoration-color: #00af00\">0</span> (unbuilt) │\n",
       "├─────────────────────────────────┼────────────────────────┼───────────────┤\n",
       "│ dense (<span style=\"color: #0087ff; text-decoration-color: #0087ff\">Dense</span>)                   │ ?                      │   <span style=\"color: #00af00; text-decoration-color: #00af00\">0</span> (unbuilt) │\n",
       "└─────────────────────────────────┴────────────────────────┴───────────────┘\n",
       "</pre>\n"
      ],
      "text/plain": [
       "┏━━━━━━━━━━━━━━━━━━━━━━━━━━━━━━━━━┳━━━━━━━━━━━━━━━━━━━━━━━━┳━━━━━━━━━━━━━━━┓\n",
       "┃\u001b[1m \u001b[0m\u001b[1mLayer (type)                   \u001b[0m\u001b[1m \u001b[0m┃\u001b[1m \u001b[0m\u001b[1mOutput Shape          \u001b[0m\u001b[1m \u001b[0m┃\u001b[1m \u001b[0m\u001b[1m      Param #\u001b[0m\u001b[1m \u001b[0m┃\n",
       "┡━━━━━━━━━━━━━━━━━━━━━━━━━━━━━━━━━╇━━━━━━━━━━━━━━━━━━━━━━━━╇━━━━━━━━━━━━━━━┩\n",
       "│ embedding (\u001b[38;5;33mEmbedding\u001b[0m)           │ ?                      │    \u001b[38;5;34m27,380,700\u001b[0m │\n",
       "├─────────────────────────────────┼────────────────────────┼───────────────┤\n",
       "│ lstm (\u001b[38;5;33mLSTM\u001b[0m)                     │ ?                      │   \u001b[38;5;34m0\u001b[0m (unbuilt) │\n",
       "├─────────────────────────────────┼────────────────────────┼───────────────┤\n",
       "│ dense (\u001b[38;5;33mDense\u001b[0m)                   │ ?                      │   \u001b[38;5;34m0\u001b[0m (unbuilt) │\n",
       "└─────────────────────────────────┴────────────────────────┴───────────────┘\n"
      ]
     },
     "metadata": {},
     "output_type": "display_data"
    },
    {
     "data": {
      "text/html": [
       "<pre style=\"white-space:pre;overflow-x:auto;line-height:normal;font-family:Menlo,'DejaVu Sans Mono',consolas,'Courier New',monospace\"><span style=\"font-weight: bold\"> Total params: </span><span style=\"color: #00af00; text-decoration-color: #00af00\">27,380,700</span> (104.45 MB)\n",
       "</pre>\n"
      ],
      "text/plain": [
       "\u001b[1m Total params: \u001b[0m\u001b[38;5;34m27,380,700\u001b[0m (104.45 MB)\n"
      ]
     },
     "metadata": {},
     "output_type": "display_data"
    },
    {
     "data": {
      "text/html": [
       "<pre style=\"white-space:pre;overflow-x:auto;line-height:normal;font-family:Menlo,'DejaVu Sans Mono',consolas,'Courier New',monospace\"><span style=\"font-weight: bold\"> Trainable params: </span><span style=\"color: #00af00; text-decoration-color: #00af00\">0</span> (0.00 B)\n",
       "</pre>\n"
      ],
      "text/plain": [
       "\u001b[1m Trainable params: \u001b[0m\u001b[38;5;34m0\u001b[0m (0.00 B)\n"
      ]
     },
     "metadata": {},
     "output_type": "display_data"
    },
    {
     "data": {
      "text/html": [
       "<pre style=\"white-space:pre;overflow-x:auto;line-height:normal;font-family:Menlo,'DejaVu Sans Mono',consolas,'Courier New',monospace\"><span style=\"font-weight: bold\"> Non-trainable params: </span><span style=\"color: #00af00; text-decoration-color: #00af00\">27,380,700</span> (104.45 MB)\n",
       "</pre>\n"
      ],
      "text/plain": [
       "\u001b[1m Non-trainable params: \u001b[0m\u001b[38;5;34m27,380,700\u001b[0m (104.45 MB)\n"
      ]
     },
     "metadata": {},
     "output_type": "display_data"
    }
   ],
   "source": [
    "model = Sequential()\n",
    "model.add(\n",
    "    Embedding(len(tokenizer.word_index) + 1,\n",
    "              embedding_dimension,\n",
    "              weights=[embedding_matrix],\n",
    "              input_length=MAX_TEXT_LENGTH,\n",
    "              trainable=False))\n",
    "\n",
    "model.add(LSTM(8, dropout=0.3, recurrent_dropout=0.2))\n",
    "model.add(Dense(1, activation='sigmoid'))\n",
    "model.compile(optimizer='adam', loss='binary_crossentropy', metrics=['accuracy'])\n",
    "model.summary()"
   ]
  },
  {
   "cell_type": "markdown",
   "metadata": {},
   "source": [
    "## Train the Model"
   ]
  },
  {
   "cell_type": "code",
   "execution_count": 27,
   "metadata": {},
   "outputs": [
    {
     "name": "stdout",
     "output_type": "stream",
     "text": [
      "Epoch 1/20\n"
     ]
    },
    {
     "name": "stderr",
     "output_type": "stream",
     "text": [
      "2025-05-13 10:18:44.256856: W external/local_xla/xla/tsl/framework/cpu_allocator_impl.cc:83] Allocation of 40000000 exceeds 10% of free system memory.\n"
     ]
    },
    {
     "name": "stdout",
     "output_type": "stream",
     "text": [
      "\u001b[1m391/391\u001b[0m \u001b[32m━━━━━━━━━━━━━━━━━━━━\u001b[0m\u001b[37m\u001b[0m \u001b[1m103s\u001b[0m 256ms/step - accuracy: 0.5790 - loss: 0.6710 - val_accuracy: 0.7696 - val_loss: 0.5082\n",
      "Epoch 2/20\n",
      "\u001b[1m391/391\u001b[0m \u001b[32m━━━━━━━━━━━━━━━━━━━━\u001b[0m\u001b[37m\u001b[0m \u001b[1m100s\u001b[0m 257ms/step - accuracy: 0.7263 - loss: 0.5527 - val_accuracy: 0.7897 - val_loss: 0.4634\n",
      "Epoch 3/20\n",
      "\u001b[1m391/391\u001b[0m \u001b[32m━━━━━━━━━━━━━━━━━━━━\u001b[0m\u001b[37m\u001b[0m \u001b[1m100s\u001b[0m 256ms/step - accuracy: 0.7385 - loss: 0.5331 - val_accuracy: 0.7812 - val_loss: 0.4782\n",
      "Epoch 4/20\n",
      "\u001b[1m391/391\u001b[0m \u001b[32m━━━━━━━━━━━━━━━━━━━━\u001b[0m\u001b[37m\u001b[0m \u001b[1m100s\u001b[0m 257ms/step - accuracy: 0.7648 - loss: 0.4992 - val_accuracy: 0.8084 - val_loss: 0.4307\n",
      "Epoch 5/20\n",
      "\u001b[1m391/391\u001b[0m \u001b[32m━━━━━━━━━━━━━━━━━━━━\u001b[0m\u001b[37m\u001b[0m \u001b[1m100s\u001b[0m 257ms/step - accuracy: 0.7643 - loss: 0.4956 - val_accuracy: 0.8132 - val_loss: 0.4205\n",
      "Epoch 6/20\n",
      "\u001b[1m391/391\u001b[0m \u001b[32m━━━━━━━━━━━━━━━━━━━━\u001b[0m\u001b[37m\u001b[0m \u001b[1m93s\u001b[0m 238ms/step - accuracy: 0.7843 - loss: 0.4689 - val_accuracy: 0.8200 - val_loss: 0.4123\n",
      "Epoch 7/20\n",
      "\u001b[1m391/391\u001b[0m \u001b[32m━━━━━━━━━━━━━━━━━━━━\u001b[0m\u001b[37m\u001b[0m \u001b[1m91s\u001b[0m 233ms/step - accuracy: 0.7821 - loss: 0.4678 - val_accuracy: 0.8226 - val_loss: 0.4028\n",
      "Epoch 8/20\n",
      "\u001b[1m391/391\u001b[0m \u001b[32m━━━━━━━━━━━━━━━━━━━━\u001b[0m\u001b[37m\u001b[0m \u001b[1m91s\u001b[0m 232ms/step - accuracy: 0.8005 - loss: 0.4397 - val_accuracy: 0.8341 - val_loss: 0.3773\n",
      "Epoch 9/20\n",
      "\u001b[1m391/391\u001b[0m \u001b[32m━━━━━━━━━━━━━━━━━━━━\u001b[0m\u001b[37m\u001b[0m \u001b[1m91s\u001b[0m 232ms/step - accuracy: 0.8040 - loss: 0.4295 - val_accuracy: 0.8331 - val_loss: 0.3891\n",
      "Epoch 10/20\n",
      "\u001b[1m391/391\u001b[0m \u001b[32m━━━━━━━━━━━━━━━━━━━━\u001b[0m\u001b[37m\u001b[0m \u001b[1m91s\u001b[0m 233ms/step - accuracy: 0.8082 - loss: 0.4253 - val_accuracy: 0.8419 - val_loss: 0.3667\n",
      "Epoch 11/20\n",
      "\u001b[1m391/391\u001b[0m \u001b[32m━━━━━━━━━━━━━━━━━━━━\u001b[0m\u001b[37m\u001b[0m \u001b[1m91s\u001b[0m 233ms/step - accuracy: 0.8158 - loss: 0.4103 - val_accuracy: 0.8486 - val_loss: 0.3515\n",
      "Epoch 12/20\n",
      "\u001b[1m391/391\u001b[0m \u001b[32m━━━━━━━━━━━━━━━━━━━━\u001b[0m\u001b[37m\u001b[0m \u001b[1m91s\u001b[0m 232ms/step - accuracy: 0.8124 - loss: 0.4130 - val_accuracy: 0.8435 - val_loss: 0.3587\n",
      "Epoch 13/20\n",
      "\u001b[1m391/391\u001b[0m \u001b[32m━━━━━━━━━━━━━━━━━━━━\u001b[0m\u001b[37m\u001b[0m \u001b[1m91s\u001b[0m 232ms/step - accuracy: 0.8136 - loss: 0.4132 - val_accuracy: 0.8368 - val_loss: 0.3699\n",
      "Epoch 14/20\n",
      "\u001b[1m391/391\u001b[0m \u001b[32m━━━━━━━━━━━━━━━━━━━━\u001b[0m\u001b[37m\u001b[0m \u001b[1m90s\u001b[0m 232ms/step - accuracy: 0.8220 - loss: 0.3978 - val_accuracy: 0.8542 - val_loss: 0.3394\n",
      "Epoch 15/20\n",
      "\u001b[1m391/391\u001b[0m \u001b[32m━━━━━━━━━━━━━━━━━━━━\u001b[0m\u001b[37m\u001b[0m \u001b[1m91s\u001b[0m 232ms/step - accuracy: 0.8242 - loss: 0.3923 - val_accuracy: 0.8533 - val_loss: 0.3386\n",
      "Epoch 16/20\n",
      "\u001b[1m391/391\u001b[0m \u001b[32m━━━━━━━━━━━━━━━━━━━━\u001b[0m\u001b[37m\u001b[0m \u001b[1m91s\u001b[0m 232ms/step - accuracy: 0.8302 - loss: 0.3821 - val_accuracy: 0.8570 - val_loss: 0.3357\n",
      "Epoch 17/20\n",
      "\u001b[1m391/391\u001b[0m \u001b[32m━━━━━━━━━━━━━━━━━━━━\u001b[0m\u001b[37m\u001b[0m \u001b[1m1062s\u001b[0m 3s/step - accuracy: 0.8346 - loss: 0.3789 - val_accuracy: 0.8628 - val_loss: 0.3262\n",
      "Epoch 18/20\n",
      "\u001b[1m391/391\u001b[0m \u001b[32m━━━━━━━━━━━━━━━━━━━━\u001b[0m\u001b[37m\u001b[0m \u001b[1m100s\u001b[0m 257ms/step - accuracy: 0.8385 - loss: 0.3671 - val_accuracy: 0.8531 - val_loss: 0.3325\n",
      "Epoch 19/20\n",
      "\u001b[1m391/391\u001b[0m \u001b[32m━━━━━━━━━━━━━━━━━━━━\u001b[0m\u001b[37m\u001b[0m \u001b[1m100s\u001b[0m 256ms/step - accuracy: 0.8348 - loss: 0.3758 - val_accuracy: 0.8693 - val_loss: 0.3138\n",
      "Epoch 20/20\n",
      "\u001b[1m391/391\u001b[0m \u001b[32m━━━━━━━━━━━━━━━━━━━━\u001b[0m\u001b[37m\u001b[0m \u001b[1m101s\u001b[0m 259ms/step - accuracy: 0.8444 - loss: 0.3560 - val_accuracy: 0.8700 - val_loss: 0.3071\n",
      "\u001b[1m391/391\u001b[0m \u001b[32m━━━━━━━━━━━━━━━━━━━━\u001b[0m\u001b[37m\u001b[0m \u001b[1m18s\u001b[0m 46ms/step - accuracy: 0.8693 - loss: 0.3061\n",
      "Test loss: 0.3071243464946747\n",
      "Test acc: 0.8699600100517273\n",
      "Accuracy: 86.9960\n"
     ]
    }
   ],
   "source": [
    "BATCH_SIZE = 64\n",
    "EPOCHS = 20\n",
    "\n",
    "history = model.fit(\n",
    "    x_train, y_train,\n",
    "    batch_size=BATCH_SIZE,\n",
    "    epochs=EPOCHS,\n",
    "    validation_data=(x_test, y_test),\n",
    "    verbose=1)\n",
    "\n",
    "loss, acc = model.evaluate(\n",
    "    x_test, y_test,\n",
    "    batch_size=BATCH_SIZE,\n",
    "    verbose=1)\n",
    "\n",
    "print('Test loss:', loss)\n",
    "print('Test acc:', acc)\n",
    "print('Accuracy: {:.4f}'.format(acc*100))"
   ]
  },
  {
   "cell_type": "markdown",
   "metadata": {},
   "source": [
    "## Show Training History"
   ]
  },
  {
   "cell_type": "code",
   "execution_count": 37,
   "metadata": {},
   "outputs": [
    {
     "data": {
      "image/png": "[encoded data removed]",
      "text/plain": [
       "<Figure size 640x480 with 1 Axes>"
      ]
     },
     "metadata": {},
     "output_type": "display_data"
    },
    {
     "data": {
      "image/png": "[encoded data removed]",
      "text/plain": [
       "<Figure size 640x480 with 1 Axes>"
      ]
     },
     "metadata": {},
     "output_type": "display_data"
    }
   ],
   "source": [
    "# summarize history for accuracy\n",
    "#plt.plot(history.history['acc'])\n",
    "#plt.plot(history.history['val_acc'])\n",
    "plt.plot(history.history['accuracy'])\n",
    "plt.plot(history.history['val_accuracy'])\n",
    "plt.title('model accuracy')\n",
    "plt.ylabel('accuracy')\n",
    "plt.xlabel('epoch')\n",
    "plt.legend(['train', 'test'], loc='upper left')\n",
    "plt.show()\n",
    "\n",
    "# summarize history for loss\n",
    "plt.plot(history.history['loss'])\n",
    "plt.plot(history.history['val_loss'])\n",
    "plt.title('model loss')\n",
    "plt.ylabel('loss')\n",
    "plt.xlabel('epoch')\n",
    "plt.legend(['train', 'test'], loc='upper left')\n",
    "plt.show()"
   ]
  },
  {
   "cell_type": "markdown",
   "metadata": {},
   "source": [
    "## Save Model, Tokenizer and History"
   ]
  },
  {
   "cell_type": "code",
   "execution_count": 29,
   "metadata": {},
   "outputs": [
    {
     "name": "stderr",
     "output_type": "stream",
     "text": [
      "WARNING:absl:You are saving your model as an HDF5 file via `model.save()` or `keras.saving.save_model(model)`. This file format is considered legacy. We recommend using instead the native Keras format, e.g. `model.save('my_model.keras')` or `keras.saving.save_model(model, 'my_model.keras')`. \n"
     ]
    }
   ],
   "source": [
    "model.save(MODEL_FILE)\n",
    "# Store the tokenizer. The model can't be reused without it.\n",
    "with open(TOKENIZER_FILE, 'wb') as handle:\n",
    "    pickle.dump(tokenizer, handle, protocol=pickle.HIGHEST_PROTOCOL)\n",
    "    \n",
    "with open(HISTORY_FILE, 'wb') as handle:\n",
    "    pickle.dump(history.history, handle, protocol=pickle.HIGHEST_PROTOCOL)"
   ]
  },
  {
   "cell_type": "markdown",
   "metadata": {},
   "source": [
    "## Load Model, Tokenizer and History"
   ]
  },
  {
   "cell_type": "code",
   "execution_count": 41,
   "metadata": {},
   "outputs": [
    {
     "name": "stderr",
     "output_type": "stream",
     "text": [
      "WARNING:absl:Compiled the loaded model, but the compiled metrics have yet to be built. `model.compile_metrics` will be empty until you train or evaluate the model.\n"
     ]
    }
   ],
   "source": [
    "model = load_model(MODEL_FILE)\n",
    "with open(TOKENIZER_FILE, 'rb') as handle:\n",
    "    tokenizer = pickle.load(handle)\n",
    "\n",
    "with open(HISTORY_FILE, 'rb') as handle:\n",
    "    history = History()\n",
    "    history.history = pickle.load(handle)"
   ]
  },
  {
   "cell_type": "markdown",
   "metadata": {},
   "source": [
    "## Predict"
   ]
  },
  {
   "cell_type": "code",
   "execution_count": 47,
   "metadata": {},
   "outputs": [
    {
     "name": "stdout",
     "output_type": "stream",
     "text": [
      "Loading data from /home/drissa/.ipublia/data/train_test_dir\n",
      "Using train/test source data structure.\n",
      "Loading 100 pos items...\n",
      "Loading 100 neg items...\n",
      "Loaded 200 items.\n"
     ]
    },
    {
     "ename": "ValueError",
     "evalue": "not enough values to unpack (expected 4, got 2)",
     "output_type": "error",
     "traceback": [
      "\u001b[31m---------------------------------------------------------------------------\u001b[39m",
      "\u001b[31mValueError\u001b[39m                                Traceback (most recent call last)",
      "\u001b[36mCell\u001b[39m\u001b[36m \u001b[39m\u001b[32mIn[47]\u001b[39m\u001b[32m, line 1\u001b[39m\n\u001b[32m----> \u001b[39m\u001b[32m1\u001b[39m (x_train, y_train, x_test, y_test) = load_data(TRAIN_AND_TEST_DATA_DIR)\n",
      "\u001b[31mValueError\u001b[39m: not enough values to unpack (expected 4, got 2)"
     ]
    }
   ],
   "source": [
    "(x_train, y_train, x_test, y_test) = load_data(TRAIN_AND_TEST_DATA_DIR)"
   ]
  },
  {
   "cell_type": "code",
   "execution_count": null,
   "metadata": {},
   "outputs": [],
   "source": [
    "def count(a):\n",
    "    count = [0, 0]\n",
    "    for i in range(len(a)):\n",
    "        if(a[i] == 1):\n",
    "            count[0] += 1\n",
    "        else:\n",
    "            count[1] += 1\n",
    "    return count\n",
    "\n",
    "print(len(y_train), len(y_test))\n",
    "print('pos/neg', count(y_train), count(y_test))"
   ]
  },
  {
   "cell_type": "code",
   "execution_count": null,
   "metadata": {},
   "outputs": [],
   "source": [
    "float_formatter = lambda x: \"%.4f\" % x\n",
    "\n",
    "for i in range(0, 9):\n",
    "    sample_index = randint(0, len(x_test))\n",
    "    reviews = [x_test[sample_index]]\n",
    "    sequences = tokenizer.texts_to_sequences(reviews)\n",
    "    padded_reviews = pad_sequences(sequences, maxlen=MAX_TEXT_LENGTH)\n",
    "    pred = model.predict(np.array(padded_reviews))[0][0]\n",
    "    \n",
    "    print(sample_index, ':', round(pred) == y_test[sample_index], float_formatter(pred), y_test[sample_index], reviews[0][0:500])\n",
    "    print() "
   ]
  },
  {
   "cell_type": "code",
   "execution_count": null,
   "metadata": {},
   "outputs": [],
   "source": [
    "reviews = [\n",
    "    'Habe den Film gestern in der Cinelady-Vorstellung gesehen und war enttäuscht. Es wird extrem oberflächlich eine dem Thema nicht gerecht werdende Story ohne jeden Höhepunkt erzählt.',\n",
    "    'Dieser Film ist allen Menschen zu empfehlen, die sich für die Tragik der Liebe und für tiefgehende Dialoge und Gefühle interessieren.',\n",
    "    'Dieser Film ist vom Anfang bis am Ende spannend! Die Schauspieler sind super!',\n",
    "    'Dieser Film ist vom Anfang bis am Ende langweilig! Die Schauspieler sind mässig bis schlecht!',\n",
    "    'Ein super Film, überhaupt nicht wertend sondern extrem informativ und spannend wie unsere Politik funktioniert!',\n",
    "    'Eine sehr einseitige Dokumentation. Nicht empfehlenswert!',\n",
    "    'Wunder ist ein Wunderbarer Film mit einem grandiosen Darsteller-Cast bei dem kein Auge trocken bleibt.Köstlich für alle Star Wars Fans sind die liebevollen Anspielung auf Star Wars die im Film vorkommen.Für alle Homeland Fans ist in einem kurz auftritt der Star aus dessen Serie Mandy Patinkin zu sehen.Sowie ist Wunder für den Oscar 2018 als bestes Make-up nominiert.Dafür gibts von Mir 4.1/2 Sterne von 5.',\n",
    "    'Kann ausnahmsweise der Cinema-Kritik absolut recht geben. Alle Figuren unglaubwürdig, übertrieben und jedes Klischee verwendet. Aber heute reicht es scheinbar, wenn es laut ist und viele Leute völlig unnötig niedergemetzelt werden - Logik braucht es dazu nicht. Schade!!',\n",
    "    'Das Rundumpacket ist super. Leider ist der Monitor mit dem GSync Modul nochmals knappe 100.- teurer, sodass ich selber nicht von dem FreeSync Modul profitieren kann, da ich eine NVidia Grafikkarte besitze. Die 240 Hz sind echt spürbar im Shooterbereich. Die Farben kommen trotz dem TN Panel gut rüber. Für den Durchschnittspieler sind die 240 Hz überflüssig. Aber wenn man sich im eSports aufhält, können diese echt etwas ausmachen.',\n",
    "    'Mit diesen BT-Kopfhörern bin ich nur mittelmässig zufrieden. Die BOSE SoundSport Wireless sind meine 3. BT-Kopfhörer in nur 2 Jahren. Bislang war ich in der Preisklasse um die 100 CHF unterwegs. Nachdem BT In-Ears nun schon seit 3 Jahren auf dem Markt sind, wollte ich etwas mehr investieren und habe mich anhand anderer Bewertungen (leider) für die SoundSport entschieden. Zu den Produkteigenschaften: Der Klang ist super, die Bässe total präzise. Die maximale Lautstärke hingegen könnte noch mehr sein. Manchmal braucht man das halt. Das Gehäuse ist nicht vollständig geschlossen, da kommen Umgebungsgeräusche durch, denn die Silikon-Pads sind nicht ganz dicht. Überhaupt die Silikon-Pads! Normalerweise habe ich bei den Grösse M, bei den SoundSport aber L. Immerhin: sie sitzen bombenfest und drücken konstruktionsbedingt kein bisschen. Aber: für Menschen mit grossen Ohren könnte L zu klein sein. Die Verbindungsqualität ist exzellent. Die SoundSport connecten super schnell und die Verbindung ist äusserst stabil. Kein Ruckeln in der Übertragung, selbst wenn das Natel in der Hosentasche steckt. Ebenfalls super ist die Ladegeschwindigkeit mit ca. 1.5 Stunden wenn die Akkus komplett leer sind. Die Akkus halten bei mir aber nicht 8h, sondern nur ca. 4h, Lautstärke liegt meist bei 80%. Ein nettes Feature ist die Ladezustandsansage beim Anschalten. Blöd ist nur, dass die Restlaufzeit nach der Warnmeldung \"Batterieladezustand niedrig\" nur noch 5-10 Minuten beträgt. Was jetzt noch bleibt sind die Bedienelemente. An-/Ausschalter befinden sich direkt am rechten Ear-Plug. Laut/Leise/Start/Stop und Mikro sind im Bedienelement am Kabel untergebracht, aber die Druckpunkte sind unterirdisch! Vor/Zurück gibts nicht (oder funzt nicht mit meinem HTC one), man muss in dem Fall immer das Natel/MP3-Player rausholen. Alles in einem einzigen Bedienelement unterzubringen, inkl. Skip-Funktion, ist doch längst Standard.',\n",
    "    'Etwas gross aber mit spitzen Klang und Tragekomfort. Verbindet schnell und stabil via Bluetooth. Ich hatte schon einige bluetooth in-ohr Kopfhörer aber dieser Bose ist bei weitem der Beste.'\n",
    "]\n",
    "\n",
    "reviews = [\n",
    "    'J\\'aime ce film. Les acteurs jouent vraiment bien!',\n",
    "    'Je n\\'aime pas ce film. Les acteurs jouent vraiment mal!'\n",
    "]\n",
    "\n",
    "val = [\n",
    "    0,\n",
    "    1,\n",
    "    1,\n",
    "    0,\n",
    "    1,\n",
    "    0,\n",
    "    1,\n",
    "    0,\n",
    "    1,\n",
    "    1\n",
    "]\n",
    "\n",
    "sequences = tokenizer.texts_to_sequences(reviews)\n",
    "padded_reviews = pad_sequences(sequences, maxlen=MAX_TEXT_LENGTH)\n",
    "preds = model.predict(np.array(padded_reviews))\n",
    "\n",
    "for i in range(len(preds)):\n",
    "    print('{}, {:.4f}, {}, {}'.format(round(preds[i][0]) == val[i], preds[i][0], val[i], reviews[i][0:1000]))\n",
    "    print()"
   ]
  },
  {
   "cell_type": "code",
   "execution_count": null,
   "metadata": {},
   "outputs": [],
   "source": []
  }
 ],
 "metadata": {
  "kernelspec": {
   "display_name": ".env",
   "language": "python",
   "name": "python3"
  },
  "language_info": {
   "codemirror_mode": {
    "name": "ipython",
    "version": 3
   },
   "file_extension": ".py",
   "mimetype": "text/x-python",
   "name": "python",
   "nbconvert_exporter": "python",
   "pygments_lexer": "ipython3",
   "version": "3.11.2"
  }
 },
 "nbformat": 4,
 "nbformat_minor": 2
}
